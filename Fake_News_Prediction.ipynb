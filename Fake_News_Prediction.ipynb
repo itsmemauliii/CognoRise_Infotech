{
 "cells": [
  {
   "cell_type": "markdown",
   "id": "71de03ad-074c-4f82-b0e5-ba179e5ca01d",
   "metadata": {},
   "source": [
    "# Importing necessary libraries"
   ]
  },
  {
   "cell_type": "code",
   "execution_count": 72,
   "id": "7efe11ff-d40f-43c0-9ef5-bd509685e162",
   "metadata": {},
   "outputs": [],
   "source": [
    "import numpy as np \n",
    "import pandas as pd \n",
    "from sklearn.naive_bayes import MultinomialNB\n",
    "from sklearn.linear_model import LogisticRegression\n",
    "from sklearn.linear_model import PassiveAggressiveClassifier\n",
    "from sklearn.model_selection import train_test_split\n",
    "from sklearn.feature_extraction.text import TfidfVectorizer\n",
    "from sklearn.feature_extraction.text import CountVectorizer\n",
    "from sklearn import metrics\n",
    "import matplotlib.pyplot as plt\n",
    "import seaborn as sns\n",
    "import warnings\n",
    "warnings.filterwarnings('ignore')"
   ]
  },
  {
   "cell_type": "markdown",
   "id": "6c86ddd9-4f86-481f-a5d5-fedfa2683c72",
   "metadata": {},
   "source": [
    "# Data Exploration"
   ]
  },
  {
   "cell_type": "code",
   "execution_count": 5,
   "id": "75fd6d67-70ae-4537-be76-38dc5239e535",
   "metadata": {},
   "outputs": [],
   "source": [
    "data = pd.read_csv (\"/home/patel/Desktop/CognoRise_InfoTech/news.csv\")"
   ]
  },
  {
   "cell_type": "code",
   "execution_count": 6,
   "id": "b91d736d-82ff-42c6-b223-5c61f939d282",
   "metadata": {},
   "outputs": [
    {
     "data": {
      "text/plain": [
       "<bound method DataFrame.info of       Unnamed: 0                                              title  \\\n",
       "0           8476                       You Can Smell Hillary’s Fear   \n",
       "1          10294  Watch The Exact Moment Paul Ryan Committed Pol...   \n",
       "2           3608        Kerry to go to Paris in gesture of sympathy   \n",
       "3          10142  Bernie supporters on Twitter erupt in anger ag...   \n",
       "4            875   The Battle of New York: Why This Primary Matters   \n",
       "...          ...                                                ...   \n",
       "6330        4490  State Department says it can't find emails fro...   \n",
       "6331        8062  The ‘P’ in PBS Should Stand for ‘Plutocratic’ ...   \n",
       "6332        8622  Anti-Trump Protesters Are Tools of the Oligarc...   \n",
       "6333        4021  In Ethiopia, Obama seeks progress on peace, se...   \n",
       "6334        4330  Jeb Bush Is Suddenly Attacking Trump. Here's W...   \n",
       "\n",
       "                                                   text label  \n",
       "0     Daniel Greenfield, a Shillman Journalism Fello...  FAKE  \n",
       "1     Google Pinterest Digg Linkedin Reddit Stumbleu...  FAKE  \n",
       "2     U.S. Secretary of State John F. Kerry said Mon...  REAL  \n",
       "3     — Kaydee King (@KaydeeKing) November 9, 2016 T...  FAKE  \n",
       "4     It's primary day in New York and front-runners...  REAL  \n",
       "...                                                 ...   ...  \n",
       "6330  The State Department told the Republican Natio...  REAL  \n",
       "6331  The ‘P’ in PBS Should Stand for ‘Plutocratic’ ...  FAKE  \n",
       "6332   Anti-Trump Protesters Are Tools of the Oligar...  FAKE  \n",
       "6333  ADDIS ABABA, Ethiopia —President Obama convene...  REAL  \n",
       "6334  Jeb Bush Is Suddenly Attacking Trump. Here's W...  REAL  \n",
       "\n",
       "[6335 rows x 4 columns]>"
      ]
     },
     "execution_count": 6,
     "metadata": {},
     "output_type": "execute_result"
    }
   ],
   "source": [
    "data.info"
   ]
  },
  {
   "cell_type": "code",
   "execution_count": 7,
   "id": "0595ccee-0802-4290-ba22-e2b836c34ad4",
   "metadata": {},
   "outputs": [
    {
     "data": {
      "text/plain": [
       "<bound method NDFrame.head of       Unnamed: 0                                              title  \\\n",
       "0           8476                       You Can Smell Hillary’s Fear   \n",
       "1          10294  Watch The Exact Moment Paul Ryan Committed Pol...   \n",
       "2           3608        Kerry to go to Paris in gesture of sympathy   \n",
       "3          10142  Bernie supporters on Twitter erupt in anger ag...   \n",
       "4            875   The Battle of New York: Why This Primary Matters   \n",
       "...          ...                                                ...   \n",
       "6330        4490  State Department says it can't find emails fro...   \n",
       "6331        8062  The ‘P’ in PBS Should Stand for ‘Plutocratic’ ...   \n",
       "6332        8622  Anti-Trump Protesters Are Tools of the Oligarc...   \n",
       "6333        4021  In Ethiopia, Obama seeks progress on peace, se...   \n",
       "6334        4330  Jeb Bush Is Suddenly Attacking Trump. Here's W...   \n",
       "\n",
       "                                                   text label  \n",
       "0     Daniel Greenfield, a Shillman Journalism Fello...  FAKE  \n",
       "1     Google Pinterest Digg Linkedin Reddit Stumbleu...  FAKE  \n",
       "2     U.S. Secretary of State John F. Kerry said Mon...  REAL  \n",
       "3     — Kaydee King (@KaydeeKing) November 9, 2016 T...  FAKE  \n",
       "4     It's primary day in New York and front-runners...  REAL  \n",
       "...                                                 ...   ...  \n",
       "6330  The State Department told the Republican Natio...  REAL  \n",
       "6331  The ‘P’ in PBS Should Stand for ‘Plutocratic’ ...  FAKE  \n",
       "6332   Anti-Trump Protesters Are Tools of the Oligar...  FAKE  \n",
       "6333  ADDIS ABABA, Ethiopia —President Obama convene...  REAL  \n",
       "6334  Jeb Bush Is Suddenly Attacking Trump. Here's W...  REAL  \n",
       "\n",
       "[6335 rows x 4 columns]>"
      ]
     },
     "execution_count": 7,
     "metadata": {},
     "output_type": "execute_result"
    }
   ],
   "source": [
    "data.head"
   ]
  },
  {
   "cell_type": "code",
   "execution_count": 8,
   "id": "642e848f-4c8a-41cf-b195-71137f66779a",
   "metadata": {},
   "outputs": [
    {
     "data": {
      "text/plain": [
       "(6335, 4)"
      ]
     },
     "execution_count": 8,
     "metadata": {},
     "output_type": "execute_result"
    }
   ],
   "source": [
    "data.shape"
   ]
  },
  {
   "cell_type": "code",
   "execution_count": 9,
   "id": "c169b4ee-4158-4fff-a4da-eedeebf9a6e2",
   "metadata": {},
   "outputs": [
    {
     "data": {
      "text/plain": [
       "Unnamed: 0    0\n",
       "title         0\n",
       "text          0\n",
       "label         0\n",
       "dtype: int64"
      ]
     },
     "execution_count": 9,
     "metadata": {},
     "output_type": "execute_result"
    }
   ],
   "source": [
    "data.isnull().sum()"
   ]
  },
  {
   "cell_type": "code",
   "execution_count": 14,
   "id": "cad919d8-cf54-4e83-a5c6-d2b18218a0c7",
   "metadata": {},
   "outputs": [
    {
     "data": {
      "text/plain": [
       "label\n",
       "REAL    3171\n",
       "FAKE    3164\n",
       "Name: count, dtype: int64"
      ]
     },
     "execution_count": 14,
     "metadata": {},
     "output_type": "execute_result"
    }
   ],
   "source": [
    "data.label.value_counts()"
   ]
  },
  {
   "cell_type": "code",
   "execution_count": 12,
   "id": "ba26120c-0706-4173-96d2-d196a1c7bf3c",
   "metadata": {},
   "outputs": [
    {
     "data": {
      "text/html": [
       "<div>\n",
       "<style scoped>\n",
       "    .dataframe tbody tr th:only-of-type {\n",
       "        vertical-align: middle;\n",
       "    }\n",
       "\n",
       "    .dataframe tbody tr th {\n",
       "        vertical-align: top;\n",
       "    }\n",
       "\n",
       "    .dataframe thead th {\n",
       "        text-align: right;\n",
       "    }\n",
       "</style>\n",
       "<table border=\"1\" class=\"dataframe\">\n",
       "  <thead>\n",
       "    <tr style=\"text-align: right;\">\n",
       "      <th></th>\n",
       "      <th>Unnamed: 0</th>\n",
       "    </tr>\n",
       "  </thead>\n",
       "  <tbody>\n",
       "    <tr>\n",
       "      <th>count</th>\n",
       "      <td>6335.000000</td>\n",
       "    </tr>\n",
       "    <tr>\n",
       "      <th>mean</th>\n",
       "      <td>5280.415627</td>\n",
       "    </tr>\n",
       "    <tr>\n",
       "      <th>std</th>\n",
       "      <td>3038.503953</td>\n",
       "    </tr>\n",
       "    <tr>\n",
       "      <th>min</th>\n",
       "      <td>2.000000</td>\n",
       "    </tr>\n",
       "    <tr>\n",
       "      <th>25%</th>\n",
       "      <td>2674.500000</td>\n",
       "    </tr>\n",
       "    <tr>\n",
       "      <th>50%</th>\n",
       "      <td>5271.000000</td>\n",
       "    </tr>\n",
       "    <tr>\n",
       "      <th>75%</th>\n",
       "      <td>7901.000000</td>\n",
       "    </tr>\n",
       "    <tr>\n",
       "      <th>max</th>\n",
       "      <td>10557.000000</td>\n",
       "    </tr>\n",
       "  </tbody>\n",
       "</table>\n",
       "</div>"
      ],
      "text/plain": [
       "         Unnamed: 0\n",
       "count   6335.000000\n",
       "mean    5280.415627\n",
       "std     3038.503953\n",
       "min        2.000000\n",
       "25%     2674.500000\n",
       "50%     5271.000000\n",
       "75%     7901.000000\n",
       "max    10557.000000"
      ]
     },
     "execution_count": 12,
     "metadata": {},
     "output_type": "execute_result"
    }
   ],
   "source": [
    "data.describe()"
   ]
  },
  {
   "cell_type": "code",
   "execution_count": 13,
   "id": "4c1d7722-47a2-4065-91f6-55c527e9a8b0",
   "metadata": {},
   "outputs": [
    {
     "data": {
      "text/plain": [
       "Index(['Unnamed: 0', 'title', 'text', 'label'], dtype='object')"
      ]
     },
     "execution_count": 13,
     "metadata": {},
     "output_type": "execute_result"
    }
   ],
   "source": [
    "data.columns"
   ]
  },
  {
   "cell_type": "markdown",
   "id": "2b17f234-7559-4ac1-bee0-bb9c280c153b",
   "metadata": {},
   "source": [
    "# Data Preprocessing"
   ]
  },
  {
   "cell_type": "code",
   "execution_count": 15,
   "id": "eef76aa4-7462-4875-88ac-aab82db299e2",
   "metadata": {},
   "outputs": [
    {
     "data": {
      "text/plain": [
       "Unnamed: 0    0\n",
       "title         0\n",
       "text          0\n",
       "label         0\n",
       "dtype: int64"
      ]
     },
     "execution_count": 15,
     "metadata": {},
     "output_type": "execute_result"
    }
   ],
   "source": [
    "data.isnull().sum()"
   ]
  },
  {
   "cell_type": "code",
   "execution_count": 19,
   "id": "1ec2ea64-627a-4b63-83d0-ae3cfed82be3",
   "metadata": {},
   "outputs": [
    {
     "data": {
      "text/plain": [
       "<bound method DataFrame.duplicated of       Unnamed: 0                                              title  \\\n",
       "0           8476                       You Can Smell Hillary’s Fear   \n",
       "1          10294  Watch The Exact Moment Paul Ryan Committed Pol...   \n",
       "2           3608        Kerry to go to Paris in gesture of sympathy   \n",
       "3          10142  Bernie supporters on Twitter erupt in anger ag...   \n",
       "4            875   The Battle of New York: Why This Primary Matters   \n",
       "...          ...                                                ...   \n",
       "6330        4490  State Department says it can't find emails fro...   \n",
       "6331        8062  The ‘P’ in PBS Should Stand for ‘Plutocratic’ ...   \n",
       "6332        8622  Anti-Trump Protesters Are Tools of the Oligarc...   \n",
       "6333        4021  In Ethiopia, Obama seeks progress on peace, se...   \n",
       "6334        4330  Jeb Bush Is Suddenly Attacking Trump. Here's W...   \n",
       "\n",
       "                                                   text label  \n",
       "0     Daniel Greenfield, a Shillman Journalism Fello...  FAKE  \n",
       "1     Google Pinterest Digg Linkedin Reddit Stumbleu...  FAKE  \n",
       "2     U.S. Secretary of State John F. Kerry said Mon...  REAL  \n",
       "3     — Kaydee King (@KaydeeKing) November 9, 2016 T...  FAKE  \n",
       "4     It's primary day in New York and front-runners...  REAL  \n",
       "...                                                 ...   ...  \n",
       "6330  The State Department told the Republican Natio...  REAL  \n",
       "6331  The ‘P’ in PBS Should Stand for ‘Plutocratic’ ...  FAKE  \n",
       "6332   Anti-Trump Protesters Are Tools of the Oligar...  FAKE  \n",
       "6333  ADDIS ABABA, Ethiopia —President Obama convene...  REAL  \n",
       "6334  Jeb Bush Is Suddenly Attacking Trump. Here's W...  REAL  \n",
       "\n",
       "[6335 rows x 4 columns]>"
      ]
     },
     "execution_count": 19,
     "metadata": {},
     "output_type": "execute_result"
    }
   ],
   "source": [
    "data.duplicated"
   ]
  },
  {
   "cell_type": "code",
   "execution_count": 21,
   "id": "85419e24-15b1-4dcb-9e91-fc856ac7b0d7",
   "metadata": {},
   "outputs": [
    {
     "data": {
      "text/plain": [
       "0     FAKE\n",
       "1     FAKE\n",
       "2     REAL\n",
       "3     FAKE\n",
       "4     REAL\n",
       "      ... \n",
       "95    FAKE\n",
       "96    FAKE\n",
       "97    REAL\n",
       "98    REAL\n",
       "99    REAL\n",
       "Name: label, Length: 100, dtype: object"
      ]
     },
     "execution_count": 21,
     "metadata": {},
     "output_type": "execute_result"
    }
   ],
   "source": [
    "labels = data.label\n",
    "labels.head(100)"
   ]
  },
  {
   "cell_type": "code",
   "execution_count": 22,
   "id": "13b1941c-ca98-4a66-9d43-0d2d53106a9d",
   "metadata": {},
   "outputs": [],
   "source": [
    "data.reset_index(inplace=True)"
   ]
  },
  {
   "cell_type": "code",
   "execution_count": 23,
   "id": "154d8b27-430d-467e-ac2d-f15526bbe934",
   "metadata": {},
   "outputs": [
    {
     "data": {
      "text/html": [
       "<div>\n",
       "<style scoped>\n",
       "    .dataframe tbody tr th:only-of-type {\n",
       "        vertical-align: middle;\n",
       "    }\n",
       "\n",
       "    .dataframe tbody tr th {\n",
       "        vertical-align: top;\n",
       "    }\n",
       "\n",
       "    .dataframe thead th {\n",
       "        text-align: right;\n",
       "    }\n",
       "</style>\n",
       "<table border=\"1\" class=\"dataframe\">\n",
       "  <thead>\n",
       "    <tr style=\"text-align: right;\">\n",
       "      <th></th>\n",
       "      <th>index</th>\n",
       "      <th>Unnamed: 0</th>\n",
       "      <th>title</th>\n",
       "      <th>text</th>\n",
       "      <th>label</th>\n",
       "    </tr>\n",
       "  </thead>\n",
       "  <tbody>\n",
       "    <tr>\n",
       "      <th>0</th>\n",
       "      <td>0</td>\n",
       "      <td>8476</td>\n",
       "      <td>You Can Smell Hillary’s Fear</td>\n",
       "      <td>Daniel Greenfield, a Shillman Journalism Fello...</td>\n",
       "      <td>FAKE</td>\n",
       "    </tr>\n",
       "    <tr>\n",
       "      <th>1</th>\n",
       "      <td>1</td>\n",
       "      <td>10294</td>\n",
       "      <td>Watch The Exact Moment Paul Ryan Committed Pol...</td>\n",
       "      <td>Google Pinterest Digg Linkedin Reddit Stumbleu...</td>\n",
       "      <td>FAKE</td>\n",
       "    </tr>\n",
       "    <tr>\n",
       "      <th>2</th>\n",
       "      <td>2</td>\n",
       "      <td>3608</td>\n",
       "      <td>Kerry to go to Paris in gesture of sympathy</td>\n",
       "      <td>U.S. Secretary of State John F. Kerry said Mon...</td>\n",
       "      <td>REAL</td>\n",
       "    </tr>\n",
       "    <tr>\n",
       "      <th>3</th>\n",
       "      <td>3</td>\n",
       "      <td>10142</td>\n",
       "      <td>Bernie supporters on Twitter erupt in anger ag...</td>\n",
       "      <td>— Kaydee King (@KaydeeKing) November 9, 2016 T...</td>\n",
       "      <td>FAKE</td>\n",
       "    </tr>\n",
       "    <tr>\n",
       "      <th>4</th>\n",
       "      <td>4</td>\n",
       "      <td>875</td>\n",
       "      <td>The Battle of New York: Why This Primary Matters</td>\n",
       "      <td>It's primary day in New York and front-runners...</td>\n",
       "      <td>REAL</td>\n",
       "    </tr>\n",
       "    <tr>\n",
       "      <th>...</th>\n",
       "      <td>...</td>\n",
       "      <td>...</td>\n",
       "      <td>...</td>\n",
       "      <td>...</td>\n",
       "      <td>...</td>\n",
       "    </tr>\n",
       "    <tr>\n",
       "      <th>6330</th>\n",
       "      <td>6330</td>\n",
       "      <td>4490</td>\n",
       "      <td>State Department says it can't find emails fro...</td>\n",
       "      <td>The State Department told the Republican Natio...</td>\n",
       "      <td>REAL</td>\n",
       "    </tr>\n",
       "    <tr>\n",
       "      <th>6331</th>\n",
       "      <td>6331</td>\n",
       "      <td>8062</td>\n",
       "      <td>The ‘P’ in PBS Should Stand for ‘Plutocratic’ ...</td>\n",
       "      <td>The ‘P’ in PBS Should Stand for ‘Plutocratic’ ...</td>\n",
       "      <td>FAKE</td>\n",
       "    </tr>\n",
       "    <tr>\n",
       "      <th>6332</th>\n",
       "      <td>6332</td>\n",
       "      <td>8622</td>\n",
       "      <td>Anti-Trump Protesters Are Tools of the Oligarc...</td>\n",
       "      <td>Anti-Trump Protesters Are Tools of the Oligar...</td>\n",
       "      <td>FAKE</td>\n",
       "    </tr>\n",
       "    <tr>\n",
       "      <th>6333</th>\n",
       "      <td>6333</td>\n",
       "      <td>4021</td>\n",
       "      <td>In Ethiopia, Obama seeks progress on peace, se...</td>\n",
       "      <td>ADDIS ABABA, Ethiopia —President Obama convene...</td>\n",
       "      <td>REAL</td>\n",
       "    </tr>\n",
       "    <tr>\n",
       "      <th>6334</th>\n",
       "      <td>6334</td>\n",
       "      <td>4330</td>\n",
       "      <td>Jeb Bush Is Suddenly Attacking Trump. Here's W...</td>\n",
       "      <td>Jeb Bush Is Suddenly Attacking Trump. Here's W...</td>\n",
       "      <td>REAL</td>\n",
       "    </tr>\n",
       "  </tbody>\n",
       "</table>\n",
       "<p>6335 rows × 5 columns</p>\n",
       "</div>"
      ],
      "text/plain": [
       "      index  Unnamed: 0                                              title  \\\n",
       "0         0        8476                       You Can Smell Hillary’s Fear   \n",
       "1         1       10294  Watch The Exact Moment Paul Ryan Committed Pol...   \n",
       "2         2        3608        Kerry to go to Paris in gesture of sympathy   \n",
       "3         3       10142  Bernie supporters on Twitter erupt in anger ag...   \n",
       "4         4         875   The Battle of New York: Why This Primary Matters   \n",
       "...     ...         ...                                                ...   \n",
       "6330   6330        4490  State Department says it can't find emails fro...   \n",
       "6331   6331        8062  The ‘P’ in PBS Should Stand for ‘Plutocratic’ ...   \n",
       "6332   6332        8622  Anti-Trump Protesters Are Tools of the Oligarc...   \n",
       "6333   6333        4021  In Ethiopia, Obama seeks progress on peace, se...   \n",
       "6334   6334        4330  Jeb Bush Is Suddenly Attacking Trump. Here's W...   \n",
       "\n",
       "                                                   text label  \n",
       "0     Daniel Greenfield, a Shillman Journalism Fello...  FAKE  \n",
       "1     Google Pinterest Digg Linkedin Reddit Stumbleu...  FAKE  \n",
       "2     U.S. Secretary of State John F. Kerry said Mon...  REAL  \n",
       "3     — Kaydee King (@KaydeeKing) November 9, 2016 T...  FAKE  \n",
       "4     It's primary day in New York and front-runners...  REAL  \n",
       "...                                                 ...   ...  \n",
       "6330  The State Department told the Republican Natio...  REAL  \n",
       "6331  The ‘P’ in PBS Should Stand for ‘Plutocratic’ ...  FAKE  \n",
       "6332   Anti-Trump Protesters Are Tools of the Oligar...  FAKE  \n",
       "6333  ADDIS ABABA, Ethiopia —President Obama convene...  REAL  \n",
       "6334  Jeb Bush Is Suddenly Attacking Trump. Here's W...  REAL  \n",
       "\n",
       "[6335 rows x 5 columns]"
      ]
     },
     "execution_count": 23,
     "metadata": {},
     "output_type": "execute_result"
    }
   ],
   "source": [
    "data"
   ]
  },
  {
   "cell_type": "markdown",
   "id": "ab26cb9f-ab9f-4b26-b0a7-b99f7517f69a",
   "metadata": {},
   "source": [
    "# Plotting Data"
   ]
  },
  {
   "cell_type": "code",
   "execution_count": 30,
   "id": "2777209c-4fec-4445-9127-7c14ab4bcf53",
   "metadata": {},
   "outputs": [
    {
     "data": {
      "text/plain": [
       "<Axes: xlabel='count', ylabel='label'>"
      ]
     },
     "execution_count": 30,
     "metadata": {},
     "output_type": "execute_result"
    },
    {
     "data": {
      "image/png": "[encoded data removed]",
      "text/plain": [
       "<Figure size 640x480 with 1 Axes>"
      ]
     },
     "metadata": {},
     "output_type": "display_data"
    }
   ],
   "source": [
    "sns.countplot(data[\"label\"])"
   ]
  },
  {
   "cell_type": "code",
   "execution_count": 31,
   "id": "56ffa6a5-ed32-462f-af08-c26475965361",
   "metadata": {},
   "outputs": [
    {
     "data": {
      "text/plain": [
       "\"Obama's terror strategy is failing: US must heed lessons of 9/11\""
      ]
     },
     "execution_count": 31,
     "metadata": {},
     "output_type": "execute_result"
    }
   ],
   "source": [
    "dataset = data[\"title\"][120]\n",
    "dataset"
   ]
  },
  {
   "cell_type": "code",
   "execution_count": 35,
   "id": "36b2a038-1a6e-42b6-b577-352c291dbc6c",
   "metadata": {},
   "outputs": [
    {
     "data": {
      "text/plain": [
       "[\"Obama's\",\n",
       " 'terror',\n",
       " 'strategy',\n",
       " 'is',\n",
       " 'failing:',\n",
       " 'US',\n",
       " 'must',\n",
       " 'heed',\n",
       " 'lessons',\n",
       " 'of',\n",
       " '9/11']"
      ]
     },
     "execution_count": 35,
     "metadata": {},
     "output_type": "execute_result"
    }
   ],
   "source": [
    "list = dataset.split()\n",
    "list"
   ]
  },
  {
   "cell_type": "code",
   "execution_count": 68,
   "id": "51b6724f-fdca-4794-9cf0-733900d842c6",
   "metadata": {},
   "outputs": [
    {
     "name": "stdout",
     "output_type": "stream",
     "text": [
      "<class 'str'>\n"
     ]
    }
   ],
   "source": [
    "print(type(data))"
   ]
  },
  {
   "cell_type": "code",
   "execution_count": 62,
   "id": "daff8606-6eb2-44b3-930e-b779c867cab2",
   "metadata": {},
   "outputs": [
    {
     "name": "stdout",
     "output_type": "stream",
     "text": [
      "Type of dataset variable: <class 'str'>\n",
      "Value of dataset: Obama's terror strategy is failing: US must heed lessons of 9/11\n"
     ]
    }
   ],
   "source": [
    "print(\"Type of dataset variable:\", type(dataset))\n",
    "print(\"Value of dataset:\", dataset)"
   ]
  },
  {
   "cell_type": "code",
   "execution_count": 100,
   "id": "e577d0fe-9e97-4e75-89b9-eb40548a9aea",
   "metadata": {},
   "outputs": [
    {
     "name": "stderr",
     "output_type": "stream",
     "text": [
      "findfont: Generic family 'sans-serif' not found because none of the following families were found: Arial, Helvetica, Tahoma\n",
      "findfont: Generic family 'sans-serif' not found because none of the following families were found: Arial, Helvetica, Tahoma\n",
      "findfont: Generic family 'sans-serif' not found because none of the following families were found: Arial, Helvetica, Tahoma\n",
      "findfont: Generic family 'sans-serif' not found because none of the following families were found: Arial, Helvetica, Tahoma\n",
      "findfont: Generic family 'sans-serif' not found because none of the following families were found: Arial, Helvetica, Tahoma\n",
      "findfont: Generic family 'sans-serif' not found because none of the following families were found: Arial, Helvetica, Tahoma\n",
      "findfont: Generic family 'sans-serif' not found because none of the following families were found: Arial, Helvetica, Tahoma\n",
      "findfont: Generic family 'sans-serif' not found because none of the following families were found: Arial, Helvetica, Tahoma\n",
      "findfont: Generic family 'sans-serif' not found because none of the following families were found: Arial, Helvetica, Tahoma\n",
      "findfont: Generic family 'sans-serif' not found because none of the following families were found: Arial, Helvetica, Tahoma\n",
      "findfont: Generic family 'sans-serif' not found because none of the following families were found: Arial, Helvetica, Tahoma\n",
      "findfont: Generic family 'sans-serif' not found because none of the following families were found: Arial, Helvetica, Tahoma\n",
      "findfont: Generic family 'sans-serif' not found because none of the following families were found: Arial, Helvetica, Tahoma\n",
      "findfont: Generic family 'sans-serif' not found because none of the following families were found: Arial, Helvetica, Tahoma\n",
      "findfont: Generic family 'sans-serif' not found because none of the following families were found: Arial, Helvetica, Tahoma\n",
      "findfont: Generic family 'sans-serif' not found because none of the following families were found: Arial, Helvetica, Tahoma\n",
      "findfont: Generic family 'sans-serif' not found because none of the following families were found: Arial, Helvetica, Tahoma\n",
      "findfont: Generic family 'sans-serif' not found because none of the following families were found: Arial, Helvetica, Tahoma\n",
      "findfont: Generic family 'sans-serif' not found because none of the following families were found: Arial, Helvetica, Tahoma\n"
     ]
    },
    {
     "data": {
      "image/png": "[encoded data removed]",
      "text/plain": [
       "<Figure size 1000x600 with 1 Axes>"
      ]
     },
     "metadata": {},
     "output_type": "display_data"
    }
   ],
   "source": [
    "plt.figure(figsize=(10, 6))\n",
    "plt.bar('title', 'text', color='skyblue')\n",
    "plt.xlabel('Titles')\n",
    "plt.ylabel('Counts')\n",
    "plt.title('Count of Each Title')\n",
    "plt.xticks(rotation=90)\n",
    "plt.tight_layout() \n",
    "plt.show()"
   ]
  },
  {
   "cell_type": "markdown",
   "id": "26a4dbca-ab84-466e-a65d-44a90185d612",
   "metadata": {},
   "source": [
    "# Line Plot"
   ]
  },
  {
   "cell_type": "code",
   "execution_count": 101,
   "id": "b8ebc8d8-e8bf-479b-a9bf-2ed6d37c453b",
   "metadata": {},
   "outputs": [
    {
     "name": "stderr",
     "output_type": "stream",
     "text": [
      "findfont: Generic family 'sans-serif' not found because none of the following families were found: Arial, Helvetica, Tahoma\n",
      "findfont: Generic family 'sans-serif' not found because none of the following families were found: Arial, Helvetica, Tahoma\n",
      "findfont: Generic family 'sans-serif' not found because none of the following families were found: Arial, Helvetica, Tahoma\n",
      "findfont: Generic family 'sans-serif' not found because none of the following families were found: Arial, Helvetica, Tahoma\n",
      "findfont: Generic family 'sans-serif' not found because none of the following families were found: Arial, Helvetica, Tahoma\n",
      "findfont: Generic family 'sans-serif' not found because none of the following families were found: Arial, Helvetica, Tahoma\n",
      "findfont: Generic family 'sans-serif' not found because none of the following families were found: Arial, Helvetica, Tahoma\n",
      "findfont: Generic family 'sans-serif' not found because none of the following families were found: Arial, Helvetica, Tahoma\n",
      "findfont: Generic family 'sans-serif' not found because none of the following families were found: Arial, Helvetica, Tahoma\n",
      "findfont: Generic family 'sans-serif' not found because none of the following families were found: Arial, Helvetica, Tahoma\n",
      "findfont: Generic family 'sans-serif' not found because none of the following families were found: Arial, Helvetica, Tahoma\n",
      "findfont: Generic family 'sans-serif' not found because none of the following families were found: Arial, Helvetica, Tahoma\n",
      "findfont: Generic family 'sans-serif' not found because none of the following families were found: Arial, Helvetica, Tahoma\n",
      "findfont: Generic family 'sans-serif' not found because none of the following families were found: Arial, Helvetica, Tahoma\n",
      "findfont: Generic family 'sans-serif' not found because none of the following families were found: Arial, Helvetica, Tahoma\n",
      "findfont: Generic family 'sans-serif' not found because none of the following families were found: Arial, Helvetica, Tahoma\n",
      "findfont: Generic family 'sans-serif' not found because none of the following families were found: Arial, Helvetica, Tahoma\n",
      "findfont: Generic family 'sans-serif' not found because none of the following families were found: Arial, Helvetica, Tahoma\n",
      "findfont: Generic family 'sans-serif' not found because none of the following families were found: Arial, Helvetica, Tahoma\n",
      "findfont: Generic family 'sans-serif' not found because none of the following families were found: Arial, Helvetica, Tahoma\n",
      "findfont: Generic family 'sans-serif' not found because none of the following families were found: Arial, Helvetica, Tahoma\n",
      "findfont: Generic family 'sans-serif' not found because none of the following families were found: Arial, Helvetica, Tahoma\n",
      "findfont: Generic family 'sans-serif' not found because none of the following families were found: Arial, Helvetica, Tahoma\n",
      "findfont: Generic family 'sans-serif' not found because none of the following families were found: Arial, Helvetica, Tahoma\n",
      "findfont: Generic family 'sans-serif' not found because none of the following families were found: Arial, Helvetica, Tahoma\n",
      "findfont: Generic family 'sans-serif' not found because none of the following families were found: Arial, Helvetica, Tahoma\n",
      "findfont: Generic family 'sans-serif' not found because none of the following families were found: Arial, Helvetica, Tahoma\n",
      "findfont: Generic family 'sans-serif' not found because none of the following families were found: Arial, Helvetica, Tahoma\n",
      "findfont: Generic family 'sans-serif' not found because none of the following families were found: Arial, Helvetica, Tahoma\n",
      "findfont: Generic family 'sans-serif' not found because none of the following families were found: Arial, Helvetica, Tahoma\n",
      "findfont: Generic family 'sans-serif' not found because none of the following families were found: Arial, Helvetica, Tahoma\n",
      "findfont: Generic family 'sans-serif' not found because none of the following families were found: Arial, Helvetica, Tahoma\n",
      "findfont: Generic family 'sans-serif' not found because none of the following families were found: Arial, Helvetica, Tahoma\n",
      "findfont: Generic family 'sans-serif' not found because none of the following families were found: Arial, Helvetica, Tahoma\n",
      "findfont: Generic family 'sans-serif' not found because none of the following families were found: Arial, Helvetica, Tahoma\n",
      "findfont: Generic family 'sans-serif' not found because none of the following families were found: Arial, Helvetica, Tahoma\n",
      "findfont: Generic family 'sans-serif' not found because none of the following families were found: Arial, Helvetica, Tahoma\n",
      "findfont: Generic family 'sans-serif' not found because none of the following families were found: Arial, Helvetica, Tahoma\n",
      "findfont: Generic family 'sans-serif' not found because none of the following families were found: Arial, Helvetica, Tahoma\n",
      "findfont: Generic family 'sans-serif' not found because none of the following families were found: Arial, Helvetica, Tahoma\n",
      "findfont: Generic family 'sans-serif' not found because none of the following families were found: Arial, Helvetica, Tahoma\n",
      "findfont: Generic family 'sans-serif' not found because none of the following families were found: Arial, Helvetica, Tahoma\n",
      "findfont: Generic family 'sans-serif' not found because none of the following families were found: Arial, Helvetica, Tahoma\n",
      "findfont: Generic family 'sans-serif' not found because none of the following families were found: Arial, Helvetica, Tahoma\n",
      "findfont: Generic family 'sans-serif' not found because none of the following families were found: Arial, Helvetica, Tahoma\n",
      "findfont: Generic family 'sans-serif' not found because none of the following families were found: Arial, Helvetica, Tahoma\n",
      "findfont: Generic family 'sans-serif' not found because none of the following families were found: Arial, Helvetica, Tahoma\n",
      "findfont: Generic family 'sans-serif' not found because none of the following families were found: Arial, Helvetica, Tahoma\n",
      "findfont: Generic family 'sans-serif' not found because none of the following families were found: Arial, Helvetica, Tahoma\n",
      "findfont: Generic family 'sans-serif' not found because none of the following families were found: Arial, Helvetica, Tahoma\n",
      "findfont: Generic family 'sans-serif' not found because none of the following families were found: Arial, Helvetica, Tahoma\n",
      "findfont: Generic family 'sans-serif' not found because none of the following families were found: Arial, Helvetica, Tahoma\n",
      "findfont: Generic family 'sans-serif' not found because none of the following families were found: Arial, Helvetica, Tahoma\n",
      "findfont: Generic family 'sans-serif' not found because none of the following families were found: Arial, Helvetica, Tahoma\n",
      "findfont: Generic family 'sans-serif' not found because none of the following families were found: Arial, Helvetica, Tahoma\n",
      "findfont: Generic family 'sans-serif' not found because none of the following families were found: Arial, Helvetica, Tahoma\n",
      "findfont: Generic family 'sans-serif' not found because none of the following families were found: Arial, Helvetica, Tahoma\n",
      "findfont: Generic family 'sans-serif' not found because none of the following families were found: Arial, Helvetica, Tahoma\n",
      "findfont: Generic family 'sans-serif' not found because none of the following families were found: Arial, Helvetica, Tahoma\n",
      "findfont: Generic family 'sans-serif' not found because none of the following families were found: Arial, Helvetica, Tahoma\n",
      "findfont: Generic family 'sans-serif' not found because none of the following families were found: Arial, Helvetica, Tahoma\n",
      "findfont: Generic family 'sans-serif' not found because none of the following families were found: Arial, Helvetica, Tahoma\n",
      "findfont: Generic family 'sans-serif' not found because none of the following families were found: Arial, Helvetica, Tahoma\n",
      "findfont: Generic family 'sans-serif' not found because none of the following families were found: Arial, Helvetica, Tahoma\n",
      "findfont: Generic family 'sans-serif' not found because none of the following families were found: Arial, Helvetica, Tahoma\n",
      "findfont: Generic family 'sans-serif' not found because none of the following families were found: Arial, Helvetica, Tahoma\n",
      "findfont: Generic family 'sans-serif' not found because none of the following families were found: Arial, Helvetica, Tahoma\n"
     ]
    },
    {
     "data": {
      "image/png": "[encoded data removed]",
      "text/plain": [
       "<Figure size 640x480 with 1 Axes>"
      ]
     },
     "metadata": {},
     "output_type": "display_data"
    }
   ],
   "source": [
    "x_data = [1, 2, 3, 4, 5]\n",
    "y_data = [2, 4, 6, 8, 10]\n",
    "plt.plot(x_data, y_data, marker='o', linestyle='-')\n",
    "plt.xlabel('X Axis')\n",
    "plt.ylabel('Y Axis')\n",
    "plt.title('Line Plot')\n",
    "plt.grid(True)  \n",
    "plt.show()"
   ]
  },
  {
   "cell_type": "markdown",
   "id": "8c4d42e8-96c5-4ff9-82d7-5ffd120fb747",
   "metadata": {},
   "source": [
    "# Scatter PLot"
   ]
  },
  {
   "cell_type": "code",
   "execution_count": 102,
   "id": "6876fdd5-1e82-46f8-a48e-6c84feab6d7f",
   "metadata": {},
   "outputs": [
    {
     "name": "stderr",
     "output_type": "stream",
     "text": [
      "findfont: Generic family 'sans-serif' not found because none of the following families were found: Arial, Helvetica, Tahoma\n",
      "findfont: Generic family 'sans-serif' not found because none of the following families were found: Arial, Helvetica, Tahoma\n",
      "findfont: Generic family 'sans-serif' not found because none of the following families were found: Arial, Helvetica, Tahoma\n",
      "findfont: Generic family 'sans-serif' not found because none of the following families were found: Arial, Helvetica, Tahoma\n",
      "findfont: Generic family 'sans-serif' not found because none of the following families were found: Arial, Helvetica, Tahoma\n",
      "findfont: Generic family 'sans-serif' not found because none of the following families were found: Arial, Helvetica, Tahoma\n",
      "findfont: Generic family 'sans-serif' not found because none of the following families were found: Arial, Helvetica, Tahoma\n",
      "findfont: Generic family 'sans-serif' not found because none of the following families were found: Arial, Helvetica, Tahoma\n",
      "findfont: Generic family 'sans-serif' not found because none of the following families were found: Arial, Helvetica, Tahoma\n",
      "findfont: Generic family 'sans-serif' not found because none of the following families were found: Arial, Helvetica, Tahoma\n",
      "findfont: Generic family 'sans-serif' not found because none of the following families were found: Arial, Helvetica, Tahoma\n",
      "findfont: Generic family 'sans-serif' not found because none of the following families were found: Arial, Helvetica, Tahoma\n",
      "findfont: Generic family 'sans-serif' not found because none of the following families were found: Arial, Helvetica, Tahoma\n",
      "findfont: Generic family 'sans-serif' not found because none of the following families were found: Arial, Helvetica, Tahoma\n",
      "findfont: Generic family 'sans-serif' not found because none of the following families were found: Arial, Helvetica, Tahoma\n",
      "findfont: Generic family 'sans-serif' not found because none of the following families were found: Arial, Helvetica, Tahoma\n",
      "findfont: Generic family 'sans-serif' not found because none of the following families were found: Arial, Helvetica, Tahoma\n",
      "findfont: Generic family 'sans-serif' not found because none of the following families were found: Arial, Helvetica, Tahoma\n",
      "findfont: Generic family 'sans-serif' not found because none of the following families were found: Arial, Helvetica, Tahoma\n",
      "findfont: Generic family 'sans-serif' not found because none of the following families were found: Arial, Helvetica, Tahoma\n",
      "findfont: Generic family 'sans-serif' not found because none of the following families were found: Arial, Helvetica, Tahoma\n",
      "findfont: Generic family 'sans-serif' not found because none of the following families were found: Arial, Helvetica, Tahoma\n",
      "findfont: Generic family 'sans-serif' not found because none of the following families were found: Arial, Helvetica, Tahoma\n",
      "findfont: Generic family 'sans-serif' not found because none of the following families were found: Arial, Helvetica, Tahoma\n",
      "findfont: Generic family 'sans-serif' not found because none of the following families were found: Arial, Helvetica, Tahoma\n",
      "findfont: Generic family 'sans-serif' not found because none of the following families were found: Arial, Helvetica, Tahoma\n",
      "findfont: Generic family 'sans-serif' not found because none of the following families were found: Arial, Helvetica, Tahoma\n",
      "findfont: Generic family 'sans-serif' not found because none of the following families were found: Arial, Helvetica, Tahoma\n",
      "findfont: Generic family 'sans-serif' not found because none of the following families were found: Arial, Helvetica, Tahoma\n",
      "findfont: Generic family 'sans-serif' not found because none of the following families were found: Arial, Helvetica, Tahoma\n",
      "findfont: Generic family 'sans-serif' not found because none of the following families were found: Arial, Helvetica, Tahoma\n",
      "findfont: Generic family 'sans-serif' not found because none of the following families were found: Arial, Helvetica, Tahoma\n",
      "findfont: Generic family 'sans-serif' not found because none of the following families were found: Arial, Helvetica, Tahoma\n",
      "findfont: Generic family 'sans-serif' not found because none of the following families were found: Arial, Helvetica, Tahoma\n",
      "findfont: Generic family 'sans-serif' not found because none of the following families were found: Arial, Helvetica, Tahoma\n",
      "findfont: Generic family 'sans-serif' not found because none of the following families were found: Arial, Helvetica, Tahoma\n",
      "findfont: Generic family 'sans-serif' not found because none of the following families were found: Arial, Helvetica, Tahoma\n",
      "findfont: Generic family 'sans-serif' not found because none of the following families were found: Arial, Helvetica, Tahoma\n",
      "findfont: Generic family 'sans-serif' not found because none of the following families were found: Arial, Helvetica, Tahoma\n",
      "findfont: Generic family 'sans-serif' not found because none of the following families were found: Arial, Helvetica, Tahoma\n",
      "findfont: Generic family 'sans-serif' not found because none of the following families were found: Arial, Helvetica, Tahoma\n",
      "findfont: Generic family 'sans-serif' not found because none of the following families were found: Arial, Helvetica, Tahoma\n",
      "findfont: Generic family 'sans-serif' not found because none of the following families were found: Arial, Helvetica, Tahoma\n",
      "findfont: Generic family 'sans-serif' not found because none of the following families were found: Arial, Helvetica, Tahoma\n",
      "findfont: Generic family 'sans-serif' not found because none of the following families were found: Arial, Helvetica, Tahoma\n",
      "findfont: Generic family 'sans-serif' not found because none of the following families were found: Arial, Helvetica, Tahoma\n",
      "findfont: Generic family 'sans-serif' not found because none of the following families were found: Arial, Helvetica, Tahoma\n",
      "findfont: Generic family 'sans-serif' not found because none of the following families were found: Arial, Helvetica, Tahoma\n",
      "findfont: Generic family 'sans-serif' not found because none of the following families were found: Arial, Helvetica, Tahoma\n",
      "findfont: Generic family 'sans-serif' not found because none of the following families were found: Arial, Helvetica, Tahoma\n",
      "findfont: Generic family 'sans-serif' not found because none of the following families were found: Arial, Helvetica, Tahoma\n",
      "findfont: Generic family 'sans-serif' not found because none of the following families were found: Arial, Helvetica, Tahoma\n",
      "findfont: Generic family 'sans-serif' not found because none of the following families were found: Arial, Helvetica, Tahoma\n",
      "findfont: Generic family 'sans-serif' not found because none of the following families were found: Arial, Helvetica, Tahoma\n",
      "findfont: Generic family 'sans-serif' not found because none of the following families were found: Arial, Helvetica, Tahoma\n",
      "findfont: Generic family 'sans-serif' not found because none of the following families were found: Arial, Helvetica, Tahoma\n",
      "findfont: Generic family 'sans-serif' not found because none of the following families were found: Arial, Helvetica, Tahoma\n",
      "findfont: Generic family 'sans-serif' not found because none of the following families were found: Arial, Helvetica, Tahoma\n",
      "findfont: Generic family 'sans-serif' not found because none of the following families were found: Arial, Helvetica, Tahoma\n",
      "findfont: Generic family 'sans-serif' not found because none of the following families were found: Arial, Helvetica, Tahoma\n",
      "findfont: Generic family 'sans-serif' not found because none of the following families were found: Arial, Helvetica, Tahoma\n",
      "findfont: Generic family 'sans-serif' not found because none of the following families were found: Arial, Helvetica, Tahoma\n",
      "findfont: Generic family 'sans-serif' not found because none of the following families were found: Arial, Helvetica, Tahoma\n",
      "findfont: Generic family 'sans-serif' not found because none of the following families were found: Arial, Helvetica, Tahoma\n",
      "findfont: Generic family 'sans-serif' not found because none of the following families were found: Arial, Helvetica, Tahoma\n",
      "findfont: Generic family 'sans-serif' not found because none of the following families were found: Arial, Helvetica, Tahoma\n",
      "findfont: Generic family 'sans-serif' not found because none of the following families were found: Arial, Helvetica, Tahoma\n"
     ]
    },
    {
     "data": {
      "image/png": "[encoded data removed]",
      "text/plain": [
       "<Figure size 640x480 with 1 Axes>"
      ]
     },
     "metadata": {},
     "output_type": "display_data"
    }
   ],
   "source": [
    "x_data = [1, 2, 3, 4, 5]\n",
    "y_data = [2, 4, 6, 8, 10]\n",
    "plt.scatter(x_data, y_data, color='red', marker='o')\n",
    "plt.xlabel('X Axis')\n",
    "plt.ylabel('Y Axis')\n",
    "plt.title('Scatter Plot')\n",
    "plt.grid(True)  \n",
    "plt.show()"
   ]
  },
  {
   "cell_type": "markdown",
   "id": "2cf75396-d843-4f51-a46b-814ecc96b8d3",
   "metadata": {},
   "source": [
    "# Histogram"
   ]
  },
  {
   "cell_type": "code",
   "execution_count": 103,
   "id": "7a457e4e-dbc1-4e85-9dbf-40b6f1cf9bdf",
   "metadata": {},
   "outputs": [
    {
     "name": "stderr",
     "output_type": "stream",
     "text": [
      "findfont: Generic family 'sans-serif' not found because none of the following families were found: Arial, Helvetica, Tahoma\n",
      "findfont: Generic family 'sans-serif' not found because none of the following families were found: Arial, Helvetica, Tahoma\n",
      "findfont: Generic family 'sans-serif' not found because none of the following families were found: Arial, Helvetica, Tahoma\n",
      "findfont: Generic family 'sans-serif' not found because none of the following families were found: Arial, Helvetica, Tahoma\n",
      "findfont: Generic family 'sans-serif' not found because none of the following families were found: Arial, Helvetica, Tahoma\n",
      "findfont: Generic family 'sans-serif' not found because none of the following families were found: Arial, Helvetica, Tahoma\n",
      "findfont: Generic family 'sans-serif' not found because none of the following families were found: Arial, Helvetica, Tahoma\n",
      "findfont: Generic family 'sans-serif' not found because none of the following families were found: Arial, Helvetica, Tahoma\n",
      "findfont: Generic family 'sans-serif' not found because none of the following families were found: Arial, Helvetica, Tahoma\n",
      "findfont: Generic family 'sans-serif' not found because none of the following families were found: Arial, Helvetica, Tahoma\n",
      "findfont: Generic family 'sans-serif' not found because none of the following families were found: Arial, Helvetica, Tahoma\n",
      "findfont: Generic family 'sans-serif' not found because none of the following families were found: Arial, Helvetica, Tahoma\n",
      "findfont: Generic family 'sans-serif' not found because none of the following families were found: Arial, Helvetica, Tahoma\n",
      "findfont: Generic family 'sans-serif' not found because none of the following families were found: Arial, Helvetica, Tahoma\n",
      "findfont: Generic family 'sans-serif' not found because none of the following families were found: Arial, Helvetica, Tahoma\n",
      "findfont: Generic family 'sans-serif' not found because none of the following families were found: Arial, Helvetica, Tahoma\n",
      "findfont: Generic family 'sans-serif' not found because none of the following families were found: Arial, Helvetica, Tahoma\n",
      "findfont: Generic family 'sans-serif' not found because none of the following families were found: Arial, Helvetica, Tahoma\n",
      "findfont: Generic family 'sans-serif' not found because none of the following families were found: Arial, Helvetica, Tahoma\n",
      "findfont: Generic family 'sans-serif' not found because none of the following families were found: Arial, Helvetica, Tahoma\n",
      "findfont: Generic family 'sans-serif' not found because none of the following families were found: Arial, Helvetica, Tahoma\n",
      "findfont: Generic family 'sans-serif' not found because none of the following families were found: Arial, Helvetica, Tahoma\n",
      "findfont: Generic family 'sans-serif' not found because none of the following families were found: Arial, Helvetica, Tahoma\n",
      "findfont: Generic family 'sans-serif' not found because none of the following families were found: Arial, Helvetica, Tahoma\n",
      "findfont: Generic family 'sans-serif' not found because none of the following families were found: Arial, Helvetica, Tahoma\n",
      "findfont: Generic family 'sans-serif' not found because none of the following families were found: Arial, Helvetica, Tahoma\n",
      "findfont: Generic family 'sans-serif' not found because none of the following families were found: Arial, Helvetica, Tahoma\n",
      "findfont: Generic family 'sans-serif' not found because none of the following families were found: Arial, Helvetica, Tahoma\n",
      "findfont: Generic family 'sans-serif' not found because none of the following families were found: Arial, Helvetica, Tahoma\n",
      "findfont: Generic family 'sans-serif' not found because none of the following families were found: Arial, Helvetica, Tahoma\n",
      "findfont: Generic family 'sans-serif' not found because none of the following families were found: Arial, Helvetica, Tahoma\n",
      "findfont: Generic family 'sans-serif' not found because none of the following families were found: Arial, Helvetica, Tahoma\n",
      "findfont: Generic family 'sans-serif' not found because none of the following families were found: Arial, Helvetica, Tahoma\n",
      "findfont: Generic family 'sans-serif' not found because none of the following families were found: Arial, Helvetica, Tahoma\n",
      "findfont: Generic family 'sans-serif' not found because none of the following families were found: Arial, Helvetica, Tahoma\n",
      "findfont: Generic family 'sans-serif' not found because none of the following families were found: Arial, Helvetica, Tahoma\n",
      "findfont: Generic family 'sans-serif' not found because none of the following families were found: Arial, Helvetica, Tahoma\n",
      "findfont: Generic family 'sans-serif' not found because none of the following families were found: Arial, Helvetica, Tahoma\n",
      "findfont: Generic family 'sans-serif' not found because none of the following families were found: Arial, Helvetica, Tahoma\n",
      "findfont: Generic family 'sans-serif' not found because none of the following families were found: Arial, Helvetica, Tahoma\n",
      "findfont: Generic family 'sans-serif' not found because none of the following families were found: Arial, Helvetica, Tahoma\n",
      "findfont: Generic family 'sans-serif' not found because none of the following families were found: Arial, Helvetica, Tahoma\n",
      "findfont: Generic family 'sans-serif' not found because none of the following families were found: Arial, Helvetica, Tahoma\n",
      "findfont: Generic family 'sans-serif' not found because none of the following families were found: Arial, Helvetica, Tahoma\n",
      "findfont: Generic family 'sans-serif' not found because none of the following families were found: Arial, Helvetica, Tahoma\n",
      "findfont: Generic family 'sans-serif' not found because none of the following families were found: Arial, Helvetica, Tahoma\n",
      "findfont: Generic family 'sans-serif' not found because none of the following families were found: Arial, Helvetica, Tahoma\n",
      "findfont: Generic family 'sans-serif' not found because none of the following families were found: Arial, Helvetica, Tahoma\n",
      "findfont: Generic family 'sans-serif' not found because none of the following families were found: Arial, Helvetica, Tahoma\n",
      "findfont: Generic family 'sans-serif' not found because none of the following families were found: Arial, Helvetica, Tahoma\n"
     ]
    },
    {
     "data": {
      "image/png": "[encoded data removed]",
      "text/plain": [
       "<Figure size 640x480 with 1 Axes>"
      ]
     },
     "metadata": {},
     "output_type": "display_data"
    }
   ],
   "source": [
    "data = np.random.normal(loc=0, scale=1, size=1000)\n",
    "plt.hist(data, bins=30, color='green', alpha=0.7)\n",
    "plt.xlabel('Value')\n",
    "plt.ylabel('Frequency')\n",
    "plt.title('Histogram')\n",
    "plt.grid(True) \n",
    "plt.show()"
   ]
  },
  {
   "cell_type": "markdown",
   "id": "891934e3-cd03-4b80-bb25-efb42be89c4b",
   "metadata": {},
   "source": [
    "# Pie Chart"
   ]
  },
  {
   "cell_type": "code",
   "execution_count": 104,
   "id": "c1253c61-55ce-41d0-8528-e55bb960a168",
   "metadata": {},
   "outputs": [
    {
     "name": "stderr",
     "output_type": "stream",
     "text": [
      "findfont: Generic family 'sans-serif' not found because none of the following families were found: Arial, Helvetica, Tahoma\n",
      "findfont: Generic family 'sans-serif' not found because none of the following families were found: Arial, Helvetica, Tahoma\n",
      "findfont: Generic family 'sans-serif' not found because none of the following families were found: Arial, Helvetica, Tahoma\n",
      "findfont: Generic family 'sans-serif' not found because none of the following families were found: Arial, Helvetica, Tahoma\n",
      "findfont: Generic family 'sans-serif' not found because none of the following families were found: Arial, Helvetica, Tahoma\n",
      "findfont: Generic family 'sans-serif' not found because none of the following families were found: Arial, Helvetica, Tahoma\n",
      "findfont: Generic family 'sans-serif' not found because none of the following families were found: Arial, Helvetica, Tahoma\n",
      "findfont: Generic family 'sans-serif' not found because none of the following families were found: Arial, Helvetica, Tahoma\n",
      "findfont: Generic family 'sans-serif' not found because none of the following families were found: Arial, Helvetica, Tahoma\n",
      "findfont: Generic family 'sans-serif' not found because none of the following families were found: Arial, Helvetica, Tahoma\n",
      "findfont: Generic family 'sans-serif' not found because none of the following families were found: Arial, Helvetica, Tahoma\n",
      "findfont: Generic family 'sans-serif' not found because none of the following families were found: Arial, Helvetica, Tahoma\n",
      "findfont: Generic family 'sans-serif' not found because none of the following families were found: Arial, Helvetica, Tahoma\n",
      "findfont: Generic family 'sans-serif' not found because none of the following families were found: Arial, Helvetica, Tahoma\n",
      "findfont: Generic family 'sans-serif' not found because none of the following families were found: Arial, Helvetica, Tahoma\n",
      "findfont: Generic family 'sans-serif' not found because none of the following families were found: Arial, Helvetica, Tahoma\n",
      "findfont: Generic family 'sans-serif' not found because none of the following families were found: Arial, Helvetica, Tahoma\n",
      "findfont: Generic family 'sans-serif' not found because none of the following families were found: Arial, Helvetica, Tahoma\n",
      "findfont: Generic family 'sans-serif' not found because none of the following families were found: Arial, Helvetica, Tahoma\n",
      "findfont: Generic family 'sans-serif' not found because none of the following families were found: Arial, Helvetica, Tahoma\n",
      "findfont: Generic family 'sans-serif' not found because none of the following families were found: Arial, Helvetica, Tahoma\n",
      "findfont: Generic family 'sans-serif' not found because none of the following families were found: Arial, Helvetica, Tahoma\n",
      "findfont: Generic family 'sans-serif' not found because none of the following families were found: Arial, Helvetica, Tahoma\n",
      "findfont: Generic family 'sans-serif' not found because none of the following families were found: Arial, Helvetica, Tahoma\n",
      "findfont: Generic family 'sans-serif' not found because none of the following families were found: Arial, Helvetica, Tahoma\n",
      "findfont: Generic family 'sans-serif' not found because none of the following families were found: Arial, Helvetica, Tahoma\n",
      "findfont: Generic family 'sans-serif' not found because none of the following families were found: Arial, Helvetica, Tahoma\n",
      "findfont: Generic family 'sans-serif' not found because none of the following families were found: Arial, Helvetica, Tahoma\n",
      "findfont: Generic family 'sans-serif' not found because none of the following families were found: Arial, Helvetica, Tahoma\n",
      "findfont: Generic family 'sans-serif' not found because none of the following families were found: Arial, Helvetica, Tahoma\n",
      "findfont: Generic family 'sans-serif' not found because none of the following families were found: Arial, Helvetica, Tahoma\n"
     ]
    },
    {
     "data": {
      "image/png": "[encoded data removed]",
      "text/plain": [
       "<Figure size 640x480 with 1 Axes>"
      ]
     },
     "metadata": {},
     "output_type": "display_data"
    }
   ],
   "source": [
    "sizes = [30, 20, 10, 40]\n",
    "plt.pie(sizes, labels=['A', 'B', 'C', 'D'], autopct='%1.1f%%', startangle=140)\n",
    "plt.title('Pie Chart')\n",
    "plt.axis('equal')  \n",
    "plt.show()"
   ]
  },
  {
   "cell_type": "code",
   "execution_count": null,
   "id": "a4429666-cc27-45ee-9d3e-163df8eb2a73",
   "metadata": {},
   "outputs": [],
   "source": []
  }
 ],
 "metadata": {
  "kernelspec": {
   "display_name": "Python 3 (ipykernel)",
   "language": "python",
   "name": "python3"
  },
  "language_info": {
   "codemirror_mode": {
    "name": "ipython",
    "version": 3
   },
   "file_extension": ".py",
   "mimetype": "text/x-python",
   "name": "python",
   "nbconvert_exporter": "python",
   "pygments_lexer": "ipython3",
   "version": "3.10.12"
  }
 },
 "nbformat": 4,
 "nbformat_minor": 5
}
